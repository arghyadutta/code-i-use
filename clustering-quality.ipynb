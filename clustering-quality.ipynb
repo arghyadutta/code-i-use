{
 "cells": [
  {
   "cell_type": "markdown",
   "metadata": {},
   "source": [
    "Evaluating cluster similarity is a bit non-trivial compared to supervised classification algorithms. Check [Scikit-learn documentation](https://scikit-learn.org/stable/modules/clustering.html#clustering-performance-evaluation) for more. One way is to compute the *pair*-confusion matrix.\n",
    "\n",
    "![](./assets/pair-confusion.png)"
   ]
  },
  {
   "cell_type": "code",
   "execution_count": 1,
   "metadata": {},
   "outputs": [],
   "source": [
    "from sklearn.metrics.cluster import pair_confusion_matrix\n",
    "from sklearn import metrics\n",
    "import numpy as np\n"
   ]
  },
  {
   "cell_type": "code",
   "execution_count": 2,
   "metadata": {},
   "outputs": [
    {
     "data": {
      "text/plain": [
       "array([[8, 0],\n",
       "       [2, 2]])"
      ]
     },
     "execution_count": 2,
     "metadata": {},
     "output_type": "execute_result"
    }
   ],
   "source": [
    "C = pair_confusion_matrix([0, 0, 1, 1], [0, 0, 1, 2])\n",
    "C\n",
    "TN = C[0, 0]\n",
    "FP = C[0, 1]\n",
    "FN = C[1, 0]\n",
    "TP = C[1, 1]"
   ]
  },
  {
   "cell_type": "markdown",
   "metadata": {},
   "source": [
    "It's easy to compute the Fowlkes–Mallows index, another measure for cluster similarity, using the elements of C as $\\text{FMI} = \\frac{\\text{TP}}{\\sqrt{(\\text{TP} + \\text{FP}) (\\text{TP} + \\text{FN})}}$. Fowlkes–Mallows index is useful because it gives a number—and not a matrix like the pair confusion matrix—for quickly comparing two clusterings. For more: https://scikit-learn.org/stable/modules/clustering.html#fowlkes-mallows-scores"
   ]
  },
  {
   "cell_type": "code",
   "execution_count": 3,
   "metadata": {},
   "outputs": [
    {
     "data": {
      "text/plain": [
       "0.7071067811865475"
      ]
     },
     "execution_count": 3,
     "metadata": {},
     "output_type": "execute_result"
    },
    {
     "data": {
      "text/plain": [
       "0.7071067811865476"
      ]
     },
     "execution_count": 3,
     "metadata": {},
     "output_type": "execute_result"
    }
   ],
   "source": [
    "FMI = TP / np.sqrt((TP + FP) * (TP + FN))\n",
    "FMI\n",
    "\n",
    "# You can also compute FMI using scikit-learn. The results match, of course.\n",
    "metrics.fowlkes_mallows_score([0, 0, 1, 1], [0, 0, 1, 2])"
   ]
  }
 ],
 "metadata": {
  "kernelspec": {
   "display_name": "base",
   "language": "python",
   "name": "python3"
  },
  "language_info": {
   "codemirror_mode": {
    "name": "ipython",
    "version": 3
   },
   "file_extension": ".py",
   "mimetype": "text/x-python",
   "name": "python",
   "nbconvert_exporter": "python",
   "pygments_lexer": "ipython3",
   "version": "3.9.16"
  },
  "orig_nbformat": 4
 },
 "nbformat": 4,
 "nbformat_minor": 2
}
