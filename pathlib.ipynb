{
 "cells": [
  {
   "attachments": {},
   "cell_type": "markdown",
   "metadata": {},
   "source": [
    "# Pathlib examples\n",
    "\n",
    "Few useful pathlib functions I often use. Adapted from a good reference: https://www.linuxjournal.com/content/easier-python-paths-pathlib"
   ]
  },
  {
   "cell_type": "code",
   "execution_count": 8,
   "metadata": {},
   "outputs": [],
   "source": [
    "import pathlib"
   ]
  },
  {
   "cell_type": "code",
   "execution_count": 9,
   "metadata": {},
   "outputs": [
    {
     "name": "stdout",
     "output_type": "stream",
     "text": [
      "/Users/arghya/work/shared-git-tutorials/code-i-use\n"
     ]
    }
   ],
   "source": [
    "# Current directory\n",
    "cwd = pathlib.Path.cwd()\n",
    "print(cwd)"
   ]
  },
  {
   "cell_type": "code",
   "execution_count": 10,
   "metadata": {},
   "outputs": [
    {
     "name": "stdout",
     "output_type": "stream",
     "text": [
      "[PosixPath('/Users/arghya/work/shared-git-tutorials/code-i-use/basic-plot/code/02-complex.ipynb'), PosixPath('/Users/arghya/work/shared-git-tutorials/code-i-use/basic-plot/code/01-simple.ipynb')]\n"
     ]
    }
   ],
   "source": [
    "# Get a folder's content\n",
    "dirname = pathlib.Path(cwd / \"basic-plot/code/\")\n",
    "print(list(dirname.iterdir()))  # Need list because iterdir is an iterator\n"
   ]
  },
  {
   "cell_type": "code",
   "execution_count": 11,
   "metadata": {},
   "outputs": [
    {
     "name": "stdout",
     "output_type": "stream",
     "text": [
      "[PosixPath('/Users/arghya/work/shared-git-tutorials/code-i-use/basic-plot/code/02-complex.ipynb'), PosixPath('/Users/arghya/work/shared-git-tutorials/code-i-use/basic-plot/code/01-simple.ipynb')]\n"
     ]
    }
   ],
   "source": [
    "# Extract all files with a specific extension. \n",
    "print(list(dirname.glob(\"*.ipynb\")))"
   ]
  },
  {
   "cell_type": "code",
   "execution_count": 12,
   "metadata": {},
   "outputs": [
    {
     "name": "stdout",
     "output_type": "stream",
     "text": [
      "/Users/arghya/work/shared-git-tutorials/code-i-use/basic-plot/code/02-complex.ipynb\n",
      "/Users/arghya/work/shared-git-tutorials/code-i-use/basic-plot/code/01-simple.ipynb\n"
     ]
    }
   ],
   "source": [
    "# glob also useful for iterating over paths—notice that for iterating you don't need to convert the generator to a list\n",
    "for notebook_path in dirname.glob(\"*.ipynb\"):\n",
    "    print(notebook_path)\n"
   ]
  },
  {
   "cell_type": "code",
   "execution_count": 13,
   "metadata": {},
   "outputs": [
    {
     "name": "stdout",
     "output_type": "stream",
     "text": [
      "path: /Users/arghya/work/shared-git-tutorials/code-i-use/basic-plot/code/01-simple.ipynb\n",
      "exists: True\n",
      "is_file: True\n",
      "is_dir: False\n",
      "parent: /Users/arghya/work/shared-git-tutorials/code-i-use/basic-plot/code\n",
      "name: 01-simple.ipynb\n",
      "stem: 01-simple\n",
      "suffix: .ipynb\n",
      "parts: ('/', 'Users', 'arghya', 'work', 'shared-git-tutorials', 'code-i-use', 'basic-plot', 'code', '01-simple.ipynb')\n"
     ]
    }
   ],
   "source": [
    "# Useful properties of a path (filename, file extension type etc.)\n",
    "\n",
    "p = pathlib.Path(cwd / \"basic-plot/code/01-simple.ipynb\") #define a path\n",
    "\n",
    "print(f\"path: {p}\")\n",
    "print(f\"exists: {p.exists()}\")\n",
    "print(f\"is_file: {p.is_file()}\")\n",
    "print(f\"is_dir: {p.is_dir()}\")\n",
    "print(f\"parent: {p.parent}\")\n",
    "print(f\"name: {p.name}\")\n",
    "print(f\"stem: {p.stem}\")\n",
    "print(f\"suffix: {p.suffix}\")\n",
    "print(f\"parts: {p.parts}\")\n"
   ]
  },
  {
   "cell_type": "code",
   "execution_count": 14,
   "metadata": {},
   "outputs": [
    {
     "name": "stdout",
     "output_type": "stream",
     "text": [
      "absolute path: /Users/arghya/work/shared-git-tutorials/code-i-use/basic-plot/code/01-simple.ipynb\n",
      "relative path w.r.t. cwd: basic-plot/code/01-simple.ipynb\n"
     ]
    }
   ],
   "source": [
    "# resolve absolute and relative paths\n",
    "print(f\"absolute path: {p.resolve()}\")\n",
    "print(f\"relative path w.r.t. cwd: {p.resolve().relative_to(cwd)}\")\n"
   ]
  },
  {
   "cell_type": "code",
   "execution_count": null,
   "metadata": {},
   "outputs": [],
   "source": []
  }
 ],
 "metadata": {
  "kernelspec": {
   "display_name": "base",
   "language": "python",
   "name": "python3"
  },
  "language_info": {
   "codemirror_mode": {
    "name": "ipython",
    "version": 3
   },
   "file_extension": ".py",
   "mimetype": "text/x-python",
   "name": "python",
   "nbconvert_exporter": "python",
   "pygments_lexer": "ipython3",
   "version": "3.9.16"
  },
  "orig_nbformat": 4
 },
 "nbformat": 4,
 "nbformat_minor": 2
}
